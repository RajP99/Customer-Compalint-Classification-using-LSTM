{
 "cells": [
  {
   "cell_type": "code",
   "execution_count": 155,
   "metadata": {},
   "outputs": [],
   "source": [
    "import pandas as pd\n",
    "import matplotlib.pyplot as plt\n",
    "import seaborn as sns"
   ]
  },
  {
   "cell_type": "code",
   "execution_count": 156,
   "metadata": {},
   "outputs": [],
   "source": [
    "data = pd.read_csv('Consumer_Complaints.csv')"
   ]
  },
  {
   "cell_type": "markdown",
   "metadata": {},
   "source": [
    "# Data Exploration"
   ]
  },
  {
   "cell_type": "code",
   "execution_count": 157,
   "metadata": {},
   "outputs": [
    {
     "data": {
      "text/html": [
       "<div>\n",
       "<style scoped>\n",
       "    .dataframe tbody tr th:only-of-type {\n",
       "        vertical-align: middle;\n",
       "    }\n",
       "\n",
       "    .dataframe tbody tr th {\n",
       "        vertical-align: top;\n",
       "    }\n",
       "\n",
       "    .dataframe thead th {\n",
       "        text-align: right;\n",
       "    }\n",
       "</style>\n",
       "<table border=\"1\" class=\"dataframe\">\n",
       "  <thead>\n",
       "    <tr style=\"text-align: right;\">\n",
       "      <th></th>\n",
       "      <th>Date received</th>\n",
       "      <th>Product</th>\n",
       "      <th>Sub-product</th>\n",
       "      <th>Issue</th>\n",
       "      <th>Sub-issue</th>\n",
       "      <th>Consumer complaint narrative</th>\n",
       "      <th>Company public response</th>\n",
       "      <th>Company</th>\n",
       "      <th>State</th>\n",
       "      <th>ZIP code</th>\n",
       "      <th>Tags</th>\n",
       "      <th>Consumer consent provided?</th>\n",
       "      <th>Submitted via</th>\n",
       "      <th>Date sent to company</th>\n",
       "      <th>Company response to consumer</th>\n",
       "      <th>Timely response?</th>\n",
       "      <th>Consumer disputed?</th>\n",
       "      <th>Complaint ID</th>\n",
       "    </tr>\n",
       "  </thead>\n",
       "  <tbody>\n",
       "    <tr>\n",
       "      <th>0</th>\n",
       "      <td>08/09/2015</td>\n",
       "      <td>Credit reporting</td>\n",
       "      <td>NaN</td>\n",
       "      <td>Incorrect information on credit report</td>\n",
       "      <td>Information is not mine</td>\n",
       "      <td>NaN</td>\n",
       "      <td>Company chooses not to provide a public response</td>\n",
       "      <td>Experian Information Solutions Inc.</td>\n",
       "      <td>NJ</td>\n",
       "      <td>08872</td>\n",
       "      <td>NaN</td>\n",
       "      <td>Consent not provided</td>\n",
       "      <td>Web</td>\n",
       "      <td>08/09/2015</td>\n",
       "      <td>Closed with non-monetary relief</td>\n",
       "      <td>Yes</td>\n",
       "      <td>No</td>\n",
       "      <td>1509954</td>\n",
       "    </tr>\n",
       "    <tr>\n",
       "      <th>1</th>\n",
       "      <td>01/29/2019</td>\n",
       "      <td>Credit reporting, credit repair services, or o...</td>\n",
       "      <td>Credit reporting</td>\n",
       "      <td>Problem with a credit reporting company's inve...</td>\n",
       "      <td>Was not notified of investigation status or re...</td>\n",
       "      <td>NaN</td>\n",
       "      <td>NaN</td>\n",
       "      <td>EQUIFAX, INC.</td>\n",
       "      <td>NY</td>\n",
       "      <td>10801</td>\n",
       "      <td>NaN</td>\n",
       "      <td>Consent not provided</td>\n",
       "      <td>Web</td>\n",
       "      <td>01/30/2019</td>\n",
       "      <td>Closed with non-monetary relief</td>\n",
       "      <td>Yes</td>\n",
       "      <td>NaN</td>\n",
       "      <td>3136759</td>\n",
       "    </tr>\n",
       "    <tr>\n",
       "      <th>2</th>\n",
       "      <td>08/19/2015</td>\n",
       "      <td>Mortgage</td>\n",
       "      <td>Conventional adjustable mortgage (ARM)</td>\n",
       "      <td>Loan servicing, payments, escrow account</td>\n",
       "      <td>NaN</td>\n",
       "      <td>NaN</td>\n",
       "      <td>Company chooses not to provide a public response</td>\n",
       "      <td>WELLS FARGO &amp; COMPANY</td>\n",
       "      <td>CA</td>\n",
       "      <td>94526</td>\n",
       "      <td>NaN</td>\n",
       "      <td>Consent not provided</td>\n",
       "      <td>Web</td>\n",
       "      <td>08/19/2015</td>\n",
       "      <td>Closed with explanation</td>\n",
       "      <td>Yes</td>\n",
       "      <td>No</td>\n",
       "      <td>1527601</td>\n",
       "    </tr>\n",
       "    <tr>\n",
       "      <th>3</th>\n",
       "      <td>03/04/2016</td>\n",
       "      <td>Credit card</td>\n",
       "      <td>NaN</td>\n",
       "      <td>Billing disputes</td>\n",
       "      <td>NaN</td>\n",
       "      <td>I am dissatisfied with the current outcome of ...</td>\n",
       "      <td>NaN</td>\n",
       "      <td>DISCOVER BANK</td>\n",
       "      <td>NV</td>\n",
       "      <td>891XX</td>\n",
       "      <td>NaN</td>\n",
       "      <td>Consent provided</td>\n",
       "      <td>Web</td>\n",
       "      <td>03/04/2016</td>\n",
       "      <td>Closed with explanation</td>\n",
       "      <td>Yes</td>\n",
       "      <td>Yes</td>\n",
       "      <td>1816726</td>\n",
       "    </tr>\n",
       "    <tr>\n",
       "      <th>4</th>\n",
       "      <td>03/18/2013</td>\n",
       "      <td>Mortgage</td>\n",
       "      <td>Other mortgage</td>\n",
       "      <td>Loan modification,collection,foreclosure</td>\n",
       "      <td>NaN</td>\n",
       "      <td>NaN</td>\n",
       "      <td>NaN</td>\n",
       "      <td>BANK OF AMERICA, NATIONAL ASSOCIATION</td>\n",
       "      <td>PA</td>\n",
       "      <td>175XX</td>\n",
       "      <td>NaN</td>\n",
       "      <td>NaN</td>\n",
       "      <td>Referral</td>\n",
       "      <td>03/19/2013</td>\n",
       "      <td>Closed with explanation</td>\n",
       "      <td>Yes</td>\n",
       "      <td>No</td>\n",
       "      <td>358304</td>\n",
       "    </tr>\n",
       "  </tbody>\n",
       "</table>\n",
       "</div>"
      ],
      "text/plain": [
       "  Date received                                            Product  \\\n",
       "0    08/09/2015                                   Credit reporting   \n",
       "1    01/29/2019  Credit reporting, credit repair services, or o...   \n",
       "2    08/19/2015                                           Mortgage   \n",
       "3    03/04/2016                                        Credit card   \n",
       "4    03/18/2013                                           Mortgage   \n",
       "\n",
       "                              Sub-product  \\\n",
       "0                                     NaN   \n",
       "1                        Credit reporting   \n",
       "2  Conventional adjustable mortgage (ARM)   \n",
       "3                                     NaN   \n",
       "4                          Other mortgage   \n",
       "\n",
       "                                               Issue  \\\n",
       "0             Incorrect information on credit report   \n",
       "1  Problem with a credit reporting company's inve...   \n",
       "2           Loan servicing, payments, escrow account   \n",
       "3                                   Billing disputes   \n",
       "4           Loan modification,collection,foreclosure   \n",
       "\n",
       "                                           Sub-issue  \\\n",
       "0                            Information is not mine   \n",
       "1  Was not notified of investigation status or re...   \n",
       "2                                                NaN   \n",
       "3                                                NaN   \n",
       "4                                                NaN   \n",
       "\n",
       "                        Consumer complaint narrative  \\\n",
       "0                                                NaN   \n",
       "1                                                NaN   \n",
       "2                                                NaN   \n",
       "3  I am dissatisfied with the current outcome of ...   \n",
       "4                                                NaN   \n",
       "\n",
       "                            Company public response  \\\n",
       "0  Company chooses not to provide a public response   \n",
       "1                                               NaN   \n",
       "2  Company chooses not to provide a public response   \n",
       "3                                               NaN   \n",
       "4                                               NaN   \n",
       "\n",
       "                                 Company State ZIP code Tags  \\\n",
       "0    Experian Information Solutions Inc.    NJ    08872  NaN   \n",
       "1                          EQUIFAX, INC.    NY    10801  NaN   \n",
       "2                  WELLS FARGO & COMPANY    CA    94526  NaN   \n",
       "3                          DISCOVER BANK    NV    891XX  NaN   \n",
       "4  BANK OF AMERICA, NATIONAL ASSOCIATION    PA    175XX  NaN   \n",
       "\n",
       "  Consumer consent provided? Submitted via Date sent to company  \\\n",
       "0       Consent not provided           Web           08/09/2015   \n",
       "1       Consent not provided           Web           01/30/2019   \n",
       "2       Consent not provided           Web           08/19/2015   \n",
       "3           Consent provided           Web           03/04/2016   \n",
       "4                        NaN      Referral           03/19/2013   \n",
       "\n",
       "      Company response to consumer Timely response? Consumer disputed?  \\\n",
       "0  Closed with non-monetary relief              Yes                 No   \n",
       "1  Closed with non-monetary relief              Yes                NaN   \n",
       "2          Closed with explanation              Yes                 No   \n",
       "3          Closed with explanation              Yes                Yes   \n",
       "4          Closed with explanation              Yes                 No   \n",
       "\n",
       "   Complaint ID  \n",
       "0       1509954  \n",
       "1       3136759  \n",
       "2       1527601  \n",
       "3       1816726  \n",
       "4        358304  "
      ]
     },
     "execution_count": 157,
     "metadata": {},
     "output_type": "execute_result"
    }
   ],
   "source": [
    "data.head()"
   ]
  },
  {
   "cell_type": "code",
   "execution_count": 158,
   "metadata": {},
   "outputs": [
    {
     "data": {
      "text/html": [
       "<div>\n",
       "<style scoped>\n",
       "    .dataframe tbody tr th:only-of-type {\n",
       "        vertical-align: middle;\n",
       "    }\n",
       "\n",
       "    .dataframe tbody tr th {\n",
       "        vertical-align: top;\n",
       "    }\n",
       "\n",
       "    .dataframe thead th {\n",
       "        text-align: right;\n",
       "    }\n",
       "</style>\n",
       "<table border=\"1\" class=\"dataframe\">\n",
       "  <thead>\n",
       "    <tr style=\"text-align: right;\">\n",
       "      <th></th>\n",
       "      <th>Date received</th>\n",
       "      <th>Product</th>\n",
       "      <th>Sub-product</th>\n",
       "      <th>Issue</th>\n",
       "      <th>Sub-issue</th>\n",
       "      <th>Consumer complaint narrative</th>\n",
       "      <th>Company public response</th>\n",
       "      <th>Company</th>\n",
       "      <th>State</th>\n",
       "      <th>ZIP code</th>\n",
       "      <th>Tags</th>\n",
       "      <th>Consumer consent provided?</th>\n",
       "      <th>Submitted via</th>\n",
       "      <th>Date sent to company</th>\n",
       "      <th>Company response to consumer</th>\n",
       "      <th>Timely response?</th>\n",
       "      <th>Consumer disputed?</th>\n",
       "      <th>Complaint ID</th>\n",
       "    </tr>\n",
       "  </thead>\n",
       "  <tbody>\n",
       "    <tr>\n",
       "      <th>1440586</th>\n",
       "      <td>09/25/2019</td>\n",
       "      <td>Checking or savings account</td>\n",
       "      <td>Savings account</td>\n",
       "      <td>Managing an account</td>\n",
       "      <td>Problem accessing account</td>\n",
       "      <td>NaN</td>\n",
       "      <td>NaN</td>\n",
       "      <td>CAPITAL ONE FINANCIAL CORPORATION</td>\n",
       "      <td>CA</td>\n",
       "      <td>92834</td>\n",
       "      <td>NaN</td>\n",
       "      <td>Consent not provided</td>\n",
       "      <td>Web</td>\n",
       "      <td>09/25/2019</td>\n",
       "      <td>Closed with explanation</td>\n",
       "      <td>Yes</td>\n",
       "      <td>NaN</td>\n",
       "      <td>3386671</td>\n",
       "    </tr>\n",
       "    <tr>\n",
       "      <th>1440587</th>\n",
       "      <td>11/14/2019</td>\n",
       "      <td>Credit reporting, credit repair services, or o...</td>\n",
       "      <td>Credit reporting</td>\n",
       "      <td>Problem with a credit reporting company's inve...</td>\n",
       "      <td>Difficulty submitting a dispute or getting inf...</td>\n",
       "      <td>My FICO score dropped by 29 point and the cred...</td>\n",
       "      <td>Company has responded to the consumer and the ...</td>\n",
       "      <td>TRANSUNION INTERMEDIATE HOLDINGS, INC.</td>\n",
       "      <td>NY</td>\n",
       "      <td>112XX</td>\n",
       "      <td>NaN</td>\n",
       "      <td>Consent provided</td>\n",
       "      <td>Web</td>\n",
       "      <td>11/14/2019</td>\n",
       "      <td>Closed with explanation</td>\n",
       "      <td>Yes</td>\n",
       "      <td>NaN</td>\n",
       "      <td>3438423</td>\n",
       "    </tr>\n",
       "    <tr>\n",
       "      <th>1440588</th>\n",
       "      <td>11/20/2019</td>\n",
       "      <td>Credit reporting, credit repair services, or o...</td>\n",
       "      <td>Credit reporting</td>\n",
       "      <td>Incorrect information on your report</td>\n",
       "      <td>Information belongs to someone else</td>\n",
       "      <td>NaN</td>\n",
       "      <td>Company has responded to the consumer and the ...</td>\n",
       "      <td>TRANSUNION INTERMEDIATE HOLDINGS, INC.</td>\n",
       "      <td>FL</td>\n",
       "      <td>33167</td>\n",
       "      <td>NaN</td>\n",
       "      <td>Consent not provided</td>\n",
       "      <td>Web</td>\n",
       "      <td>11/20/2019</td>\n",
       "      <td>Closed with explanation</td>\n",
       "      <td>Yes</td>\n",
       "      <td>NaN</td>\n",
       "      <td>3445246</td>\n",
       "    </tr>\n",
       "    <tr>\n",
       "      <th>1440589</th>\n",
       "      <td>11/11/2019</td>\n",
       "      <td>Mortgage</td>\n",
       "      <td>FHA mortgage</td>\n",
       "      <td>Struggling to pay mortgage</td>\n",
       "      <td>NaN</td>\n",
       "      <td>Freedom mortgage prolonged my loan modificatio...</td>\n",
       "      <td>Company has responded to the consumer and the ...</td>\n",
       "      <td>FREEDOM MORTGAGE COMPANY</td>\n",
       "      <td>CA</td>\n",
       "      <td>928XX</td>\n",
       "      <td>NaN</td>\n",
       "      <td>Consent provided</td>\n",
       "      <td>Web</td>\n",
       "      <td>11/11/2019</td>\n",
       "      <td>Closed with explanation</td>\n",
       "      <td>Yes</td>\n",
       "      <td>NaN</td>\n",
       "      <td>3434642</td>\n",
       "    </tr>\n",
       "    <tr>\n",
       "      <th>1440590</th>\n",
       "      <td>11/20/2019</td>\n",
       "      <td>Credit reporting, credit repair services, or o...</td>\n",
       "      <td>Credit reporting</td>\n",
       "      <td>Problem with a credit reporting company's inve...</td>\n",
       "      <td>Their investigation did not fix an error on yo...</td>\n",
       "      <td>NaN</td>\n",
       "      <td>Company has responded to the consumer and the ...</td>\n",
       "      <td>TRANSUNION INTERMEDIATE HOLDINGS, INC.</td>\n",
       "      <td>NJ</td>\n",
       "      <td>080XX</td>\n",
       "      <td>NaN</td>\n",
       "      <td>NaN</td>\n",
       "      <td>Web</td>\n",
       "      <td>11/20/2019</td>\n",
       "      <td>Closed with explanation</td>\n",
       "      <td>Yes</td>\n",
       "      <td>NaN</td>\n",
       "      <td>3445045</td>\n",
       "    </tr>\n",
       "  </tbody>\n",
       "</table>\n",
       "</div>"
      ],
      "text/plain": [
       "        Date received                                            Product  \\\n",
       "1440586    09/25/2019                        Checking or savings account   \n",
       "1440587    11/14/2019  Credit reporting, credit repair services, or o...   \n",
       "1440588    11/20/2019  Credit reporting, credit repair services, or o...   \n",
       "1440589    11/11/2019                                           Mortgage   \n",
       "1440590    11/20/2019  Credit reporting, credit repair services, or o...   \n",
       "\n",
       "              Sub-product                                              Issue  \\\n",
       "1440586   Savings account                                Managing an account   \n",
       "1440587  Credit reporting  Problem with a credit reporting company's inve...   \n",
       "1440588  Credit reporting               Incorrect information on your report   \n",
       "1440589      FHA mortgage                         Struggling to pay mortgage   \n",
       "1440590  Credit reporting  Problem with a credit reporting company's inve...   \n",
       "\n",
       "                                                 Sub-issue  \\\n",
       "1440586                          Problem accessing account   \n",
       "1440587  Difficulty submitting a dispute or getting inf...   \n",
       "1440588                Information belongs to someone else   \n",
       "1440589                                                NaN   \n",
       "1440590  Their investigation did not fix an error on yo...   \n",
       "\n",
       "                              Consumer complaint narrative  \\\n",
       "1440586                                                NaN   \n",
       "1440587  My FICO score dropped by 29 point and the cred...   \n",
       "1440588                                                NaN   \n",
       "1440589  Freedom mortgage prolonged my loan modificatio...   \n",
       "1440590                                                NaN   \n",
       "\n",
       "                                   Company public response  \\\n",
       "1440586                                                NaN   \n",
       "1440587  Company has responded to the consumer and the ...   \n",
       "1440588  Company has responded to the consumer and the ...   \n",
       "1440589  Company has responded to the consumer and the ...   \n",
       "1440590  Company has responded to the consumer and the ...   \n",
       "\n",
       "                                        Company State ZIP code Tags  \\\n",
       "1440586       CAPITAL ONE FINANCIAL CORPORATION    CA    92834  NaN   \n",
       "1440587  TRANSUNION INTERMEDIATE HOLDINGS, INC.    NY    112XX  NaN   \n",
       "1440588  TRANSUNION INTERMEDIATE HOLDINGS, INC.    FL    33167  NaN   \n",
       "1440589                FREEDOM MORTGAGE COMPANY    CA    928XX  NaN   \n",
       "1440590  TRANSUNION INTERMEDIATE HOLDINGS, INC.    NJ    080XX  NaN   \n",
       "\n",
       "        Consumer consent provided? Submitted via Date sent to company  \\\n",
       "1440586       Consent not provided           Web           09/25/2019   \n",
       "1440587           Consent provided           Web           11/14/2019   \n",
       "1440588       Consent not provided           Web           11/20/2019   \n",
       "1440589           Consent provided           Web           11/11/2019   \n",
       "1440590                        NaN           Web           11/20/2019   \n",
       "\n",
       "        Company response to consumer Timely response? Consumer disputed?  \\\n",
       "1440586      Closed with explanation              Yes                NaN   \n",
       "1440587      Closed with explanation              Yes                NaN   \n",
       "1440588      Closed with explanation              Yes                NaN   \n",
       "1440589      Closed with explanation              Yes                NaN   \n",
       "1440590      Closed with explanation              Yes                NaN   \n",
       "\n",
       "         Complaint ID  \n",
       "1440586       3386671  \n",
       "1440587       3438423  \n",
       "1440588       3445246  \n",
       "1440589       3434642  \n",
       "1440590       3445045  "
      ]
     },
     "execution_count": 158,
     "metadata": {},
     "output_type": "execute_result"
    }
   ],
   "source": [
    "data.tail()"
   ]
  },
  {
   "cell_type": "code",
   "execution_count": 159,
   "metadata": {},
   "outputs": [
    {
     "name": "stdout",
     "output_type": "stream",
     "text": [
      "1440591\n"
     ]
    }
   ],
   "source": [
    "print(len(data))"
   ]
  },
  {
   "cell_type": "code",
   "execution_count": 160,
   "metadata": {},
   "outputs": [
    {
     "name": "stdout",
     "output_type": "stream",
     "text": [
      "['Credit reporting'\n",
      " 'Credit reporting, credit repair services, or other personal consumer reports'\n",
      " 'Mortgage' 'Credit card' 'Debt collection' 'Bank account or service'\n",
      " 'Credit card or prepaid card' 'Consumer Loan' 'Student loan'\n",
      " 'Vehicle loan or lease'\n",
      " 'Money transfer, virtual currency, or money service'\n",
      " 'Checking or savings account' 'Money transfers'\n",
      " 'Payday loan, title loan, or personal loan' 'Prepaid card'\n",
      " 'Other financial service' 'Payday loan' 'Virtual currency']\n"
     ]
    }
   ],
   "source": [
    "print(data['Product'].unique())"
   ]
  },
  {
   "cell_type": "code",
   "execution_count": 161,
   "metadata": {},
   "outputs": [
    {
     "name": "stdout",
     "output_type": "stream",
     "text": [
      "465282\n"
     ]
    }
   ],
   "source": [
    "print(data['Consumer complaint narrative'].count())"
   ]
  },
  {
   "cell_type": "markdown",
   "metadata": {},
   "source": [
    "There are only 465282 rows that do not have a blank consumer complaint narrative"
   ]
  },
  {
   "cell_type": "code",
   "execution_count": 162,
   "metadata": {},
   "outputs": [],
   "source": [
    "#Keeping only the two columns that are needed\n",
    "data = data[['Product', 'Consumer complaint narrative']]\n",
    "data.columns = ['Product', 'Complaint']"
   ]
  },
  {
   "cell_type": "code",
   "execution_count": 163,
   "metadata": {},
   "outputs": [
    {
     "data": {
      "text/html": [
       "<div>\n",
       "<style scoped>\n",
       "    .dataframe tbody tr th:only-of-type {\n",
       "        vertical-align: middle;\n",
       "    }\n",
       "\n",
       "    .dataframe tbody tr th {\n",
       "        vertical-align: top;\n",
       "    }\n",
       "\n",
       "    .dataframe thead th {\n",
       "        text-align: right;\n",
       "    }\n",
       "</style>\n",
       "<table border=\"1\" class=\"dataframe\">\n",
       "  <thead>\n",
       "    <tr style=\"text-align: right;\">\n",
       "      <th></th>\n",
       "      <th>Product</th>\n",
       "      <th>Complaint</th>\n",
       "    </tr>\n",
       "  </thead>\n",
       "  <tbody>\n",
       "    <tr>\n",
       "      <th>0</th>\n",
       "      <td>Credit reporting</td>\n",
       "      <td>NaN</td>\n",
       "    </tr>\n",
       "    <tr>\n",
       "      <th>1</th>\n",
       "      <td>Credit reporting, credit repair services, or o...</td>\n",
       "      <td>NaN</td>\n",
       "    </tr>\n",
       "    <tr>\n",
       "      <th>2</th>\n",
       "      <td>Mortgage</td>\n",
       "      <td>NaN</td>\n",
       "    </tr>\n",
       "    <tr>\n",
       "      <th>3</th>\n",
       "      <td>Credit card</td>\n",
       "      <td>I am dissatisfied with the current outcome of ...</td>\n",
       "    </tr>\n",
       "    <tr>\n",
       "      <th>4</th>\n",
       "      <td>Mortgage</td>\n",
       "      <td>NaN</td>\n",
       "    </tr>\n",
       "  </tbody>\n",
       "</table>\n",
       "</div>"
      ],
      "text/plain": [
       "                                             Product  \\\n",
       "0                                   Credit reporting   \n",
       "1  Credit reporting, credit repair services, or o...   \n",
       "2                                           Mortgage   \n",
       "3                                        Credit card   \n",
       "4                                           Mortgage   \n",
       "\n",
       "                                           Complaint  \n",
       "0                                                NaN  \n",
       "1                                                NaN  \n",
       "2                                                NaN  \n",
       "3  I am dissatisfied with the current outcome of ...  \n",
       "4                                                NaN  "
      ]
     },
     "execution_count": 163,
     "metadata": {},
     "output_type": "execute_result"
    }
   ],
   "source": [
    "data.head()"
   ]
  },
  {
   "cell_type": "code",
   "execution_count": 164,
   "metadata": {},
   "outputs": [],
   "source": [
    "data = data.dropna()\n",
    "data = data.reset_index(drop=True)"
   ]
  },
  {
   "cell_type": "code",
   "execution_count": 165,
   "metadata": {},
   "outputs": [
    {
     "data": {
      "text/html": [
       "<div>\n",
       "<style scoped>\n",
       "    .dataframe tbody tr th:only-of-type {\n",
       "        vertical-align: middle;\n",
       "    }\n",
       "\n",
       "    .dataframe tbody tr th {\n",
       "        vertical-align: top;\n",
       "    }\n",
       "\n",
       "    .dataframe thead th {\n",
       "        text-align: right;\n",
       "    }\n",
       "</style>\n",
       "<table border=\"1\" class=\"dataframe\">\n",
       "  <thead>\n",
       "    <tr style=\"text-align: right;\">\n",
       "      <th></th>\n",
       "      <th>Product</th>\n",
       "      <th>Complaint</th>\n",
       "    </tr>\n",
       "  </thead>\n",
       "  <tbody>\n",
       "    <tr>\n",
       "      <th>0</th>\n",
       "      <td>Credit card</td>\n",
       "      <td>I am dissatisfied with the current outcome of ...</td>\n",
       "    </tr>\n",
       "    <tr>\n",
       "      <th>1</th>\n",
       "      <td>Credit reporting, credit repair services, or o...</td>\n",
       "      <td>On XX/XX/18 an item showed up on my credit rep...</td>\n",
       "    </tr>\n",
       "    <tr>\n",
       "      <th>2</th>\n",
       "      <td>Debt collection</td>\n",
       "      <td>Saw on my credit report that there is a collec...</td>\n",
       "    </tr>\n",
       "    <tr>\n",
       "      <th>3</th>\n",
       "      <td>Credit reporting, credit repair services, or o...</td>\n",
       "      <td>Capital one auto finacing XX/XX/2018 unknown i...</td>\n",
       "    </tr>\n",
       "    <tr>\n",
       "      <th>4</th>\n",
       "      <td>Credit card or prepaid card</td>\n",
       "      <td>I own a small trucking company. One of my truc...</td>\n",
       "    </tr>\n",
       "  </tbody>\n",
       "</table>\n",
       "</div>"
      ],
      "text/plain": [
       "                                             Product  \\\n",
       "0                                        Credit card   \n",
       "1  Credit reporting, credit repair services, or o...   \n",
       "2                                    Debt collection   \n",
       "3  Credit reporting, credit repair services, or o...   \n",
       "4                        Credit card or prepaid card   \n",
       "\n",
       "                                           Complaint  \n",
       "0  I am dissatisfied with the current outcome of ...  \n",
       "1  On XX/XX/18 an item showed up on my credit rep...  \n",
       "2  Saw on my credit report that there is a collec...  \n",
       "3  Capital one auto finacing XX/XX/2018 unknown i...  \n",
       "4  I own a small trucking company. One of my truc...  "
      ]
     },
     "execution_count": 165,
     "metadata": {},
     "output_type": "execute_result"
    }
   ],
   "source": [
    "data.head()"
   ]
  },
  {
   "cell_type": "code",
   "execution_count": 166,
   "metadata": {},
   "outputs": [
    {
     "name": "stdout",
     "output_type": "stream",
     "text": [
      "465282\n"
     ]
    }
   ],
   "source": [
    "print(len(data))"
   ]
  },
  {
   "cell_type": "code",
   "execution_count": 167,
   "metadata": {},
   "outputs": [
    {
     "data": {
      "image/png": "[encoded data removed]",
      "text/plain": [
       "<Figure size 432x288 with 1 Axes>"
      ]
     },
     "metadata": {
      "needs_background": "light"
     },
     "output_type": "display_data"
    }
   ],
   "source": [
    "#Plot countplot of values in 'Product' column\n",
    "def plot_countplot(data):\n",
    "    countplot = sns.countplot(x=data['Product'])\n",
    "    countplot.set_xticklabels(countplot.get_xticklabels(), rotation=90)\n",
    "    plt.show()\n",
    "\n",
    "plot_countplot(data)"
   ]
  },
  {
   "cell_type": "markdown",
   "metadata": {},
   "source": [
    "# Data Pre-Processing/Cleaning"
   ]
  },
  {
   "cell_type": "code",
   "execution_count": 168,
   "metadata": {},
   "outputs": [],
   "source": [
    "#Combine overlapping columns\n",
    "data.loc[data['Product'] == 'Credit card', 'Product'] = 'Credit card or prepaid card'\n",
    "data.loc[data['Product'] == 'Credit reporting', 'Product'] = 'Credit reporting, credit repair services, or other personal consumer reports'\n",
    "data.loc[data['Product'] == 'Payday load', 'Product'] = 'Payday loan, title loan, or personal loan'\n",
    "data.loc[data['Product'] == 'Virtual currency', 'Product'] = 'Money transfer, virtual currency, or money service'\n",
    "data.loc[data['Product'] == 'Money transfers', 'Product'] = 'Money transfer, virtual currency, or money service'\n",
    "data.loc[data['Product'] == 'Prepaid card', 'Product'] = 'Credit card or prepaid card'"
   ]
  },
  {
   "cell_type": "code",
   "execution_count": 169,
   "metadata": {},
   "outputs": [
    {
     "data": {
      "image/png": "[encoded data removed]",
      "text/plain": [
       "<Figure size 432x288 with 1 Axes>"
      ]
     },
     "metadata": {
      "needs_background": "light"
     },
     "output_type": "display_data"
    }
   ],
   "source": [
    "plot_countplot(data)"
   ]
  },
  {
   "cell_type": "code",
   "execution_count": 181,
   "metadata": {},
   "outputs": [],
   "source": [
    "def print_example(data):\n",
    "    print(data['Complaint'][0])"
   ]
  },
  {
   "cell_type": "code",
   "execution_count": 182,
   "metadata": {},
   "outputs": [
    {
     "name": "stdout",
     "output_type": "stream",
     "text": [
      "dissatisfied current outcome dispute initiated discover card regarding single transaction occurred amount corresponded discover card least four times since enclosed attachment complaint believe credit card issuer violated consumer protection laws failing implement special rule credit card purchase protection despite overwhelming paperwork evidence submitted shows merchant conducted business bad faith less favorable consumer sustained monetary loss result merchants bad faith intent patiently utilized internal discover card dispute process past three months credit card issuer always favoring merchant repeatedly submitted irrefutable paperwork evidence shown merchant conducted business bad faith tried good faith address complaint merchant discover card believe receive favorable outcome\n"
     ]
    }
   ],
   "source": [
    "print_example(data)"
   ]
  },
  {
   "cell_type": "markdown",
   "metadata": {},
   "source": [
    "Need to clean text before tokenizing"
   ]
  },
  {
   "cell_type": "code",
   "execution_count": 172,
   "metadata": {},
   "outputs": [],
   "source": [
    "from keras.preprocessing.text import Tokenizer\n",
    "from keras.preprocessing.sequence import pad_sequences\n",
    "import re\n",
    "import nltk\n",
    "from nltk.corpus import stopwords\n",
    "english_stopwords = set(stopwords.words('english'))"
   ]
  },
  {
   "cell_type": "code",
   "execution_count": 176,
   "metadata": {},
   "outputs": [],
   "source": [
    "#Convert to lowercase, remove bad characters, digits and stopwords\n",
    "def clean_text(text):\n",
    "    text = text.lower()\n",
    "    text = re.sub('/()\\[\\]{}@\\$,;\\'', '', text)\n",
    "    text = re.sub('[^0-9a-z #+_]', '', text)\n",
    "    text = re.sub('x', '', text)\n",
    "    text = re.sub('\\d', '', text)\n",
    "    text = ' '.join(word for word in text.split() if word not in english_stopwords)    \n",
    "    \n",
    "    return text"
   ]
  },
  {
   "cell_type": "code",
   "execution_count": 177,
   "metadata": {},
   "outputs": [],
   "source": [
    "data['Complaint'] = data['Complaint'].apply(clean_text)"
   ]
  },
  {
   "cell_type": "code",
   "execution_count": 178,
   "metadata": {},
   "outputs": [
    {
     "name": "stdout",
     "output_type": "stream",
     "text": [
      "dissatisfied current outcome dispute initiated discover card regarding single transaction occurred amount corresponded discover card least four times since enclosed attachment complaint believe credit card issuer violated consumer protection laws failing implement special rule credit card purchase protection despite overwhelming paperwork evidence submitted shows merchant conducted business bad faith less favorable consumer sustained monetary loss result merchants bad faith intent patiently utilized internal discover card dispute process past three months credit card issuer always favoring merchant repeatedly submitted irrefutable paperwork evidence shown merchant conducted business bad faith tried good faith address complaint merchant discover card believe receive favorable outcome\n"
     ]
    }
   ],
   "source": [
    "print_example(data)"
   ]
  },
  {
   "cell_type": "code",
   "execution_count": 190,
   "metadata": {},
   "outputs": [],
   "source": [
    "#Tokenize sentences\n",
    "def tokenize(data):\n",
    "    tokenizer = Tokenizer()\n",
    "    tokenizer.fit_on_texts(data['Complaint'].values)\n",
    "\n",
    "    return tokenizer"
   ]
  },
  {
   "cell_type": "code",
   "execution_count": 191,
   "metadata": {},
   "outputs": [],
   "source": [
    "tokenizer = tokenize(data)"
   ]
  },
  {
   "cell_type": "code",
   "execution_count": 197,
   "metadata": {},
   "outputs": [
    {
     "name": "stdout",
     "output_type": "stream",
     "text": [
      "182930\n"
     ]
    }
   ],
   "source": [
    "word_index = tokenizer.word_index\n",
    "print(len(word_index))"
   ]
  },
  {
   "cell_type": "markdown",
   "metadata": {},
   "source": [
    "There are 182930 tokens"
   ]
  },
  {
   "cell_type": "code",
   "execution_count": 209,
   "metadata": {},
   "outputs": [],
   "source": [
    "#Vectorize complaints\n",
    "def prepare_data(data, tokenizer):\n",
    "    X = tokenizer.texts_to_sequences(data['Complaint'].values)\n",
    "    X = pad_sequences(X, maxlen = 200, padding='post') #Set maxlen of complaints to 200\n",
    "    y = pd.get_dummies(data['Product'].values)\n",
    "    return X, y"
   ]
  },
  {
   "cell_type": "code",
   "execution_count": 218,
   "metadata": {},
   "outputs": [
    {
     "name": "stdout",
     "output_type": "stream",
     "text": [
      "X shape: (465282, 200)\n",
      "y shape: (465282, 13)\n"
     ]
    }
   ],
   "source": [
    "X, y = prepare_data(data, tokenizer)\n",
    "print(\"X shape: \" + str(X.shape))\n",
    "print(\"y shape: \" + str(y.shape))"
   ]
  },
  {
   "cell_type": "code",
   "execution_count": 219,
   "metadata": {},
   "outputs": [],
   "source": [
    "from sklearn.model_selection import train_test_split"
   ]
  },
  {
   "cell_type": "code",
   "execution_count": 220,
   "metadata": {},
   "outputs": [],
   "source": [
    "X_train, X_test, y_train, y_test = train_test_split(X,y,test_size=0.15)"
   ]
  },
  {
   "cell_type": "code",
   "execution_count": 221,
   "metadata": {},
   "outputs": [
    {
     "name": "stdout",
     "output_type": "stream",
     "text": [
      "X_train shape: (395489, 200)\n",
      "y_train shape: (395489, 13)\n",
      "X_test shape: (69793, 200)\n",
      "y_test shape: (69793, 13)\n"
     ]
    }
   ],
   "source": [
    "print(\"X_train shape: \" + str(X_train.shape))\n",
    "print(\"y_train shape: \" + str(y_train.shape))\n",
    "print(\"X_test shape: \" + str(X_test.shape))\n",
    "print(\"y_test shape: \" + str(y_test.shape))"
   ]
  },
  {
   "cell_type": "code",
   "execution_count": 251,
   "metadata": {},
   "outputs": [],
   "source": [
    "import numpy as np\n",
    "\n",
    "#Load the vectors from the GloVe file that are in word_index\n",
    "def load_glove(word_index):\n",
    "    embeddings_index = dict()\n",
    "    f = open(\"glove.6B/glove.6B.100d.txt\",encoding=\"utf8\")\n",
    "    for line in f:\n",
    "        values = line.split()\n",
    "        word = values[0]\n",
    "        if word in word_index.keys():\n",
    "            coefs = np.asarray(values[1:], dtype='float32')\n",
    "            embeddings_index[word] = coefs\n",
    "    f.close()\n",
    "    return embeddings_index"
   ]
  },
  {
   "cell_type": "code",
   "execution_count": 252,
   "metadata": {},
   "outputs": [],
   "source": [
    "embeddings_index = load_glove(word_index)"
   ]
  },
  {
   "cell_type": "code",
   "execution_count": 262,
   "metadata": {},
   "outputs": [],
   "source": [
    "#Create embedding matrix for weights that will be passed to the model\n",
    "def create_embedding_matrix(embeddings_index, word_index):\n",
    "    embedding_matrix = np.zeros((len(word_index)+1, 100))\n",
    "    for word, i in word_index.items():\n",
    "        embedding_vector = embeddings_index.get(word)\n",
    "        if embedding_vector is not None:\n",
    "            embedding_matrix[i] = embedding_vector\n",
    "    return embedding_matrix"
   ]
  },
  {
   "cell_type": "code",
   "execution_count": 263,
   "metadata": {},
   "outputs": [],
   "source": [
    "embedding_matrix = create_embedding_matrix(embeddings_index, word_index)"
   ]
  },
  {
   "cell_type": "markdown",
   "metadata": {},
   "source": [
    "# Developing Model"
   ]
  },
  {
   "cell_type": "code",
   "execution_count": 282,
   "metadata": {},
   "outputs": [],
   "source": [
    "from keras.models import Sequential\n",
    "from keras.layers import Dense, Embedding, LSTM\n",
    "from keras.callbacks import EarlyStopping"
   ]
  },
  {
   "cell_type": "code",
   "execution_count": 283,
   "metadata": {},
   "outputs": [],
   "source": [
    "model = Sequential()\n",
    "model.add(Embedding(len(word_index)+1, 100, weights=[embedding_matrix], input_length=X.shape[1], trainable=False))\n",
    "model.add(LSTM(100))\n",
    "model.add(Dense(13, activation=\"softmax\"))\n",
    "model.compile(loss=\"categorical_crossentropy\", optimizer=\"adam\", metrics=['accuracy'])"
   ]
  },
  {
   "cell_type": "code",
   "execution_count": 284,
   "metadata": {},
   "outputs": [
    {
     "name": "stdout",
     "output_type": "stream",
     "text": [
      "Train on 336165 samples, validate on 59324 samples\n",
      "Epoch 1/10\n",
      "336165/336165 [==============================] - 1222s 4ms/step - loss: 1.0096 - accuracy: 0.6673 - val_loss: 0.7133 - val_accuracy: 0.7610\n",
      "Epoch 2/10\n",
      "336165/336165 [==============================] - 1180s 4ms/step - loss: 0.6574 - accuracy: 0.7769 - val_loss: 0.6218 - val_accuracy: 0.7878\n",
      "Epoch 3/10\n",
      "336165/336165 [==============================] - 1229s 4ms/step - loss: 0.6016 - accuracy: 0.7934 - val_loss: 0.5981 - val_accuracy: 0.7970\n",
      "Epoch 4/10\n",
      "336165/336165 [==============================] - 1172s 3ms/step - loss: 0.5678 - accuracy: 0.8054 - val_loss: 0.5859 - val_accuracy: 0.8026\n",
      "Epoch 5/10\n",
      "336165/336165 [==============================] - 1170s 3ms/step - loss: 0.5400 - accuracy: 0.8152 - val_loss: 0.5622 - val_accuracy: 0.8094\n",
      "Epoch 6/10\n",
      "336165/336165 [==============================] - 1171s 3ms/step - loss: 0.5191 - accuracy: 0.8220 - val_loss: 0.5576 - val_accuracy: 0.8123\n",
      "Epoch 7/10\n",
      "336165/336165 [==============================] - 1166s 3ms/step - loss: 0.5028 - accuracy: 0.8271 - val_loss: 0.5624 - val_accuracy: 0.8117\n"
     ]
    }
   ],
   "source": [
    "trained_model = model.fit(X_train, y_train, epochs=10, batch_size=64, validation_split=0.15, callbacks=[EarlyStopping(monitor='val_loss')])"
   ]
  },
  {
   "cell_type": "code",
   "execution_count": 288,
   "metadata": {},
   "outputs": [
    {
     "data": {
      "image/png": "[encoded data removed]",
      "text/plain": [
       "<Figure size 432x288 with 1 Axes>"
      ]
     },
     "metadata": {
      "needs_background": "light"
     },
     "output_type": "display_data"
    }
   ],
   "source": [
    "plt.title(\"Training loss vs Validation loss\")\n",
    "plt.plot(trained_model.history['loss'], label='train')\n",
    "plt.plot(trained_model.history['val_loss'], label='validation')\n",
    "plt.legend()\n",
    "plt.show()"
   ]
  },
  {
   "cell_type": "code",
   "execution_count": 290,
   "metadata": {},
   "outputs": [
    {
     "data": {
      "image/png": "[encoded data removed]",
      "text/plain": [
       "<Figure size 432x288 with 1 Axes>"
      ]
     },
     "metadata": {
      "needs_background": "light"
     },
     "output_type": "display_data"
    }
   ],
   "source": [
    "plt.title(\"Training loss vs Validation loss\")\n",
    "plt.plot(trained_model.history['accuracy'], label='train')\n",
    "plt.plot(trained_model.history['val_accuracy'], label='validation')\n",
    "plt.legend()\n",
    "plt.show()"
   ]
  },
  {
   "cell_type": "code",
   "execution_count": 291,
   "metadata": {},
   "outputs": [
    {
     "name": "stdout",
     "output_type": "stream",
     "text": [
      "395489/395489 [==============================] - 856s 2ms/step\n"
     ]
    }
   ],
   "source": [
    "pred = model.evaluate(X_train, y_train)"
   ]
  },
  {
   "cell_type": "code",
   "execution_count": 293,
   "metadata": {},
   "outputs": [
    {
     "name": "stdout",
     "output_type": "stream",
     "text": [
      "Test loss: 0.4942299998024417\n",
      "Test accuracy: 0.8307664394378662\n"
     ]
    }
   ],
   "source": [
    "print(\"Test loss: \" + str(pred[0]) + \"\\nTest accuracy: \" + str(pred[1]))"
   ]
  }
 ],
 "metadata": {
  "kernelspec": {
   "display_name": "Python 3",
   "language": "python",
   "name": "python3"
  },
  "language_info": {
   "codemirror_mode": {
    "name": "ipython",
    "version": 3
   },
   "file_extension": ".py",
   "mimetype": "text/x-python",
   "name": "python",
   "nbconvert_exporter": "python",
   "pygments_lexer": "ipython3",
   "version": "3.7.3"
  }
 },
 "nbformat": 4,
 "nbformat_minor": 2
}
